{
 "cells": [
  {
   "cell_type": "markdown",
   "metadata": {},
   "source": [
    "# Table of Contents\n",
    "* [Final Project: Big Data Science](#Final-Project:-Big-Data-Science)\n",
    "\t* [Project Overview](#Project-Overview)\n",
    "\t* [Todo List](#Todo-List)\n",
    "\t* [Step-by-step Instruction](#Step-by-step-Instruction)\n",
    "\t\t* [1. Initial Plan (5 points)](#1.-Initial-Plan-%285-points%29)\n",
    "\t\t* [2. Proposal Presentation (30 points)](#2.-Proposal-Presentation-%2830-points%29)\n",
    "\t\t* [3. Poster Session (45 points)](#3.-Poster-Session-%2845-points%29)\n",
    "\t\t* [4. Code & Report (20 points)](#4.-Code-&-Report-%2820-points%29)\n"
   ]
  },
  {
   "cell_type": "markdown",
   "metadata": {},
   "source": [
    "# Final Project: Big Data Science"
   ]
  },
  {
   "cell_type": "markdown",
   "metadata": {},
   "source": [
    "## Project Overview"
   ]
  },
  {
   "cell_type": "markdown",
   "metadata": {},
   "source": [
    "In the final project, I hope everyone can think yourself as a real-world data scientist. Your goal is to come up with some interesting questions, find right datasets, and implement a data-processing pipeline to answer those questions. In order to achieve this, please follow the following steps:\n",
    "\n",
    "1. Form a data-science team of **2-3** persons. Note that single-person group is not allowed since it is important for data scientisits to know how to collaborate with others.\n",
    "2. Brainstorm some project ideas and derive an initial plan\n",
    "3. Give a 5-min talk on your project proposal\n",
    "5. Present your project in the poster session\n",
    "6. Submit your code and report \n"
   ]
  },
  {
   "cell_type": "markdown",
   "metadata": {},
   "source": [
    "## Todo List"
   ]
  },
  {
   "cell_type": "markdown",
   "metadata": {},
   "source": [
    "The following table summarizes the TODO list of the final project.  "
   ]
  },
  {
   "cell_type": "markdown",
   "metadata": {},
   "source": [
    "\n",
    "\n",
    "ID |   <center>What</center>  |    <center>When</center>  |  <center>Where</center>\n",
    "-- | ------------------------ | ------------------------- | ------------------\n",
    "1  |  Initial Plan             |  Sunday 03/05 at 11:59 PM  |  Submit the filled [form](https://docs.google.com/document/d/1DV-4Zyd0WJVqdH6IpIz2De0FUq-OsCtSytcz6Zn7Gro/edit?usp=sharing) to the CourSys activity [Initial Plan](https://courses.cs.sfu.ca/2017sp-cmpt-733-g1/+plan/) \n",
    "2  |  Proposal Presentation    |  Monday 03/13 at 08:00 AM <br / > Monday 03/13 at 09:30 AM |  Submit your slides to the CourSys activity [Presentation](https://courses.cs.sfu.ca/2017sp-cmpt-733-g1/+slides/) <br / > Give a talk in TASC 1 9204 West\n",
    "3  |  Poster Session             |  Monday 04/10 at 08:00 AM <br / > Monday 04/10 at 10:00 AM | Submit your poster to the CourSys activity [Poster Session](https://courses.cs.sfu.ca/2017sp-cmpt-733-g1/+poster/) <br />Present your post at the SFU Big Data Hub\n",
    "4  |  Code & Report            |  Sunday  04/16 at 11:59 PM | [Code](https://courses.cs.sfu.ca/2017sp-cmpt-733-g1/+code/), [Report](https://courses.cs.sfu.ca/2017sp-cmpt-733-g1/+report/)\n",
    "                                                              \n",
    "\n"
   ]
  },
  {
   "cell_type": "markdown",
   "metadata": {},
   "source": [
    "## Step-by-step Instruction"
   ]
  },
  {
   "cell_type": "markdown",
   "metadata": {},
   "source": [
    "### 1. Initial Plan (5 points)"
   ]
  },
  {
   "cell_type": "markdown",
   "metadata": {},
   "source": [
    "The first thing you need to do is to make a plan. Find the right person(s) that you want to work with and come up with a good project topic. Here are some requirments (or hints) about the topic:\n",
    "\n",
    "* You have to tell me what questions you want to answer. Typically, there are two ways to get some interesting questions. One is to first brainstorm the questions that interest you and then find the right datasets to answer them; The other is to first find the datasets that interest you and then find interesting questions by exploring the datasets. **I highly recommend you to pick up some questions that people do care about.** Last year, one group did a project on Vancouver Housing Price. The project attracted a lot of attentions and was reported by many media outlets (e.g., [Globe and Mail](http://www.theglobeandmail.com/news/british-columbia/external-factors-setting-vancouvers-housing-costs-university-study-finds/article29640207/), [news1130](http://www.news1130.com/2016/04/14/external-forces-driving-vancouver-housing-prices-research/)). Some common types of questions are:\n",
    "  - <u>Prediction:</u> Will Canadian dollors rise this year? What will the demographics of Canada look like in 2020?  \n",
    "  - <u>Comparision:</u>  Which university is better for studying Big Data: SFU or UBC? Who is the most influential player in NHL?   \n",
    "  - <u>See more:</u> [What Types of Questions Can Data Science Answer](https://blogs.technet.microsoft.com/machinelearning/2015/08/27/what-types-of-questions-can-data-science-answer/), [Six Types Of Analyses Every Data Scientist Should Know](http://datascientistinsights.com/2013/01/29/six-types-of-analyses-every-data-scientist-should-know/)\n",
    "  \n",
    "\n",
    "* You have to find data from at least two sources and integrate them together. For example, if you want to predict the future performance of a NBA player, you may need to get data from [stats.nba.com](http://stats.nba.com) and [basketballreference.com](http://basketballreference.com). Here are some places that you can get data:\n",
    "   - [The Yahoo Webscope Program](http://webscope.sandbox.yahoo.com/)\n",
    "   - [Finding Data on the Internet](http://blog.revolutionanalytics.com/2011/10/where-to-look-for-data.html)\n",
    "   - [Where can I find large datasets open to the public?](https://www.quora.com/Where-can-I-find-large-datasets-open-to-the-public)\n",
    "   - [Amazon Public Data Sets](http://aws.amazon.com/public-data-sets/)\n",
    "   - [Stanford 224w Page](http://web.stanford.edu/class/cs224w/resources.html)\n",
    "   - In addition, many websites provide APIs for their datasets (e.g., Twitter, Yelp, Crunchbase, Quandl). If not, you can even develop a crawler to scraping their web pages. \n",
    "\n",
    "**Submission**\n",
    "\n",
    "* Create your data-science team in [CourSys](https://courses.cs.sfu.ca/2017sp-cmpt-733-g1/groups/)\n",
    "* Download the Initial Plan [form template](https://docs.google.com/document/d/1DV-4Zyd0WJVqdH6IpIz2De0FUq-OsCtSytcz6Zn7Gro/edit?usp=sharing) \n",
    "* Submit the filled form to the CourSys activity Initial Plan\n",
    "* The deadline is Sunday 03/05 at 11:59 PM."
   ]
  },
  {
   "cell_type": "markdown",
   "metadata": {},
   "source": [
    "### 2. Proposal Presentation (30 points)"
   ]
  },
  {
   "cell_type": "markdown",
   "metadata": {},
   "source": [
    "The Initial Plan that you made above would be meaningless if you couldn't persuade your manager to allow you to do it. Thus, at work, it is super important to know how to give a persuasive speech. In order to train you this skill, each group needs to give a 5min talk on the proposed project. Imagine your manager is sitting in the audience, your goal is to convince him/her that:\n",
    "\n",
    "* Your project is super cool  \n",
    "* You can get it done on time\n",
    "\n",
    "You can easily find a lot of good [tips](http://www.wikihow.com/Write-a-Persuasive-Speech) on how to give a persuasive speech. Take a look at them and try to apply them to your speech. \n",
    "\n",
    "\n",
    "**Requirements**\n",
    "\n",
    "* EVERYONE should get prepared for the speech. In class, I will randomly pick up a student from each team and ask him/her to give the talk. \n",
    "\n",
    "* The length of the talk should be 5 mins! Pay attention to the time. If you ended up spending x mins, your team grade would be deducted by `|x-5|` points (rounding). \n",
    "\n",
    "* You are going to give the presention at 09:30 AM on Monday 03/13. But, please upload your slides to the CourSys activity before 08:00 AM.\n"
   ]
  },
  {
   "cell_type": "markdown",
   "metadata": {},
   "source": [
    "### 3. Poster Session (45 points)"
   ]
  },
  {
   "cell_type": "markdown",
   "metadata": {},
   "source": [
    "This is the show time! Make a poster to present your data product. Here are a few things that you can put into the poster:\n",
    "\n",
    "* What questions do you try to answer?  \n",
    "\n",
    "* What's your methodology to get the answers? \n",
    "\n",
    "* What datasets/tools do you use? \n",
    "\n",
    "* What's your data processing pipeline like?\n",
    "\n",
    "* What's your data product?\n",
    "\n",
    "* What have you learnt through the project? \n",
    "\n",
    "There should be tables available if you would like to do a demo.\n",
    "\n",
    "**Submission**\n",
    "\n",
    "* The poster session is scheduled at 10:00 AM on Monday 04/10. Please upload your poster to the CourSys activity Poster before 08:00 AM.\n",
    "\n",
    "\n"
   ]
  },
  {
   "cell_type": "markdown",
   "metadata": {},
   "source": [
    "### 4. Code & Report (20 points)"
   ]
  },
  {
   "cell_type": "markdown",
   "metadata": {},
   "source": [
    "** Source Control ** \n",
    "\n",
    "Like CMPT 732, you must use a Git repository for your project. The department's [GitLab](https://courses.cs.sfu.ca/2015fa-cmpt-732-g1/pages/GitLab) server is a good way to get one (instructions at that link). Group members must commit their own contributions to the repo. Please give the instructors and TAs (jnwang, aguha, sjishan, zcong) developer access to your repository. You are encouraged to publicize and open-source your work on [GitHub](https://github.com/) or similar.\n",
    "\n",
    "** Code Submission **\n",
    "\n",
    "The final implementation is due Sunday 04/16 at 11:59 PM. You will submit a tag from your repository (git tag final; git push --tags) to the CourSys activity Code. In your repository, please include a file README.txt (or README.md if you prefer) indicating how we can actually test your project as well as other notes about things we should look for. If you created some kind of web frontend, please include a URL in the README.md as well."
   ]
  },
  {
   "cell_type": "markdown",
   "metadata": {},
   "source": [
    "** Report Submission **\n",
    "\n",
    "You will submit a report of at most 5 pages giving an overview of your project. \n",
    "\n",
    "* <u>Motivation and Background:</u> Who cares about this project? Any related work?  \n",
    "* <u>Problem Statement:</u> What questions do you want to answer? Why are they challenging?    \n",
    "* <u>Data Processing Pipeline:</u> What's your data-processing pipeline like? Describe each component in detail.\n",
    "* <u>Methodology:</u> What tools or analysis methods did you use? Why did you choose them? How did you apply them to tackling each problem? \n",
    "* <u>Data Product:</u> What's your data product? Please demonstrate how it works.\n",
    "* <u>Lessons Learnt</u>: What did you learn from this project? \n",
    "* <u>Summary</u>: A high-level summary of your project. It should be self-contained and cover all the important aspects of your project.\n",
    "\n",
    "\n",
    "This is also due Sunday 04/16 at 11:59 PM, submitted to the CourSys activity Report as a PDF."
   ]
  }
 ],
 "metadata": {
  "kernelspec": {
   "display_name": "Python 2",
   "language": "python",
   "name": "python2"
  },
  "language_info": {
   "codemirror_mode": {
    "name": "ipython",
    "version": 2
   },
   "file_extension": ".py",
   "mimetype": "text/x-python",
   "name": "python",
   "nbconvert_exporter": "python",
   "pygments_lexer": "ipython2",
   "version": "2.7.11"
  }
 },
 "nbformat": 4,
 "nbformat_minor": 0
}

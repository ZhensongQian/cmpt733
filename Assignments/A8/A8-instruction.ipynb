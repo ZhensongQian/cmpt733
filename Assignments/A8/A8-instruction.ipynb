{
 "cells": [
  {
   "cell_type": "markdown",
   "metadata": {},
   "source": [
    "# Table of Contents\n",
    "* [Assignment 8: AWS & Visualization](#Assignment-8:-AWS-&-Visualization)\n",
    "\t* [Objective](#Objective)\n",
    "\t\t* [AWS](#AWS)\n",
    "\t\t* [Visualization](#Visualization)\n",
    "\t* [Part 1: Amazon Web Services (AWS)](#Part-1:-Amazon-Web-Services-%28AWS%29)\n",
    "\t\t* [Task A.1: Launching an Amazon EC2 Instance (Infrastructure)](#Task-A.1:-Launching-an-Amazon-EC2-Instance-%28Infrastructure%29)\n",
    "\t\t* [Task A.2 : Running an iPython Notebook Server on EC2 (Platform)](#Task-A.2-:-Running-an-iPython-Notebook-Server-on-EC2-%28Platform%29)\n",
    "\t\t* [Task A.3: Transferring Files between S3 and Local Machine (Application)](#Task-A.3:-Transferring-Files-between-S3-and-Local-Machine-%28Application%29)\n",
    "\t\t* [Where To Go From Here (Optional)](#Where-To-Go-From-Here-%28Optional%29)\n",
    "\t* [Part 2: Dynamic Visualization with D3](#Part-2:-Dynamic-Visualization-with-D3)\n",
    "\t\t* [Prerequisite: D3 Basics](#Prerequisite:-D3-Basics)\n",
    "\t\t* [Task B. Dynamic Visualization using \"transition\"](#Task-B.-Dynamic-Visualization-using-\"transition\")\n",
    "\t\t* [Task C. Dynamic Visualization using \"selection.exit\"](#Task-C.-Dynamic-Visualization-using-\"selection.exit\")\n",
    "\t\t* [Task D. Dynamic Visualization using \"selection.on\"](#Task-D.-Dynamic-Visualization-using-\"selection.on\")\n",
    "\t\t* [Where To Go From Here (Optional)](#Where-To-Go-From-Here-%28Optional%29)\n",
    "\t* [Submission](#Submission)\n"
   ]
  },
  {
   "cell_type": "markdown",
   "metadata": {},
   "source": [
    "# Assignment 8: AWS & Visualization"
   ]
  },
  {
   "cell_type": "markdown",
   "metadata": {},
   "source": [
    "## Objective"
   ]
  },
  {
   "cell_type": "markdown",
   "metadata": {},
   "source": [
    "The main focus of [our course](https://courses.cs.sfu.ca/2016sp-cmpt-733-g2/pages/Lecture_Notes) is on data analytics. In fact, however, there are many other exciting topics about Big Data, which we cannot cover due to time constraints. In Lecture 8, I gave you a brief overview of AWS and Visualization. In Assignment 8, I designed some tasks aiming to deepen your understanding. After completing this assignment, you should be able to answer the following questions:"
   ]
  },
  {
   "cell_type": "markdown",
   "metadata": {},
   "source": [
    "### AWS"
   ]
  },
  {
   "cell_type": "markdown",
   "metadata": {},
   "source": [
    "1. Why Cloud Computing?\n",
    "2. How to launch an Amazon EC2 Instance?\n",
    "3. How to run an iPython Notebook Server on AWS - EC2 instance? \n",
    "4. What are the key concepts of S3? \n",
    "4. How to transfer files between S3 and a local machine?"
   ]
  },
  {
   "cell_type": "markdown",
   "metadata": {},
   "source": [
    "### Visualization"
   ]
  },
  {
   "cell_type": "markdown",
   "metadata": {},
   "source": [
    "1. Why Visualization? \n",
    "2. Why D3?\n",
    "3. How to create a static visualization using D3?  \n",
    "4. How to create a dynamic visualization using D3?  \n",
    "5. How to create an interactive visualization using D3?"
   ]
  },
  {
   "cell_type": "markdown",
   "metadata": {},
   "source": [
    "## Part 1: Amazon Web Services (AWS)"
   ]
  },
  {
   "cell_type": "markdown",
   "metadata": {},
   "source": [
    "Cloud computing is well known for a _pay-as-you-go_ model. That is, pay only for what you use. This model significantly reduces the cost of data storage and data processing, making big data techniques accessible to more and more people. Therefore, the company that you are going to work in the future is very likely to use EC2 instances for data processing and use S3 for data storage.   \n",
    "\n",
    "To help you overcome this barrier, you will learn how to use AWS EC2 and S3 in Part 1. \n",
    "\n"
   ]
  },
  {
   "cell_type": "markdown",
   "metadata": {},
   "source": [
    "### Task A.1: Launching an Amazon EC2 Instance (Infrastructure)"
   ]
  },
  {
   "cell_type": "markdown",
   "metadata": {},
   "source": [
    "Amazon provides an AWS Free Tier that includes services with a free tier available for 12 months. Please follow [\"Getting Started with Amazon EC2 Linux Instances\"](http://docs.aws.amazon.com/AWSEC2/latest/UserGuide/EC2_GetStarted.html) to launch a free EC2 instance. \n",
    "\n",
    "<u>__Please choose the ubuntu OS system:__</u>\n",
    "> <img src=\"img/ubuntu.png\"/>\n",
    "\n",
    "<u>__Please choose the free t2.micro:__</u>\n",
    "> <img src=\"img/free.png\"/>\n",
    "\n"
   ]
  },
  {
   "cell_type": "markdown",
   "metadata": {},
   "source": [
    "### Task A.2 : Running an iPython Notebook Server on EC2 (Platform)"
   ]
  },
  {
   "cell_type": "markdown",
   "metadata": {},
   "source": [
    "I guess many of you may have tried iPython notebook [before](https://courses.cs.sfu.ca/2015fa-cmpt-732-g1/pages/A4-notenook/view). In Task A.2, your job is to install an iPython notebook on the above EC2 instance and access the notebook from your own laptop. You will find that this is a SUPER cool idea because this setup allows you to (1) conduct data analysis from anywhere and (2) have scalable storage/computational resources. In fact, this kind of setup is pretty common in industry right now.\n",
    "\n",
    "Please follow [Running an iPython Notebook Server on AWS - EC2 Instance](http://blog.impiyush.me/2015/02/running-ipython-notebook-server-on-aws.html) to setup the environment. \n",
    "\n",
    "__Comments:__\n",
    "* Pay attention to security group settings\n",
    "* Install your python libraries through Anaconda Python Distribution\n",
    "* Set the password to <font color=\"red\">733</font>\n",
    "* Here is what I get: https://ec2-52-26-11-211.us-west-2.compute.amazonaws.com:8888. DO NOT RUN ANY CODE IN MY NOTEBOOK.\n",
    "* The URL should start with <font color=\"red\">https</font>\n",
    "\n",
    "\n",
    "\n"
   ]
  },
  {
   "cell_type": "markdown",
   "metadata": {},
   "source": [
    "### Task A.3: Transferring Files between S3 and Local Machine (Application)  "
   ]
  },
  {
   "cell_type": "markdown",
   "metadata": {},
   "source": [
    "Amazon S3 (Simple Storage Service) is an online file storage web service. It allows for storing data in any format, and sharing data with anyone, and downloading data from anywhere. Most importantly, it's so cheap (~0.03 per GB per month, as of 03/16/2016). \n",
    "\n",
    "\n",
    "You can use S3 either with a web-based management console, or full REST APIs and SDKs (e.g., [Boto 3](https://boto3.readthedocs.org/en/latest/)). They are all very easy to use. But please keep in mind some basic [concepts](http://docs.aws.amazon.com/AmazonS3/latest/dev/Introduction.html#CoreConcepts) when using them.\n",
    "\n",
    "\n",
    "\n",
    "__Task Description:__\n",
    "\n",
    "The goal of this task is to give you some sense on how the S3 console and the Boto S3 API work. Please follow the following steps to finish this task.\n",
    "\n",
    "1. Download the [NBA dataset](https://courses.cs.sfu.ca/2016sp-cmpt-733-g2/pages/nba) to your local machine \n",
    "2. Create a bucket in your S3 using the S3 console (you can use any name for the bucket)\n",
    "3. Upload \"playbyplay20120510040.__zip__\" to the bucket   \n",
    "4. Create a new python notebook on your EC2 instance\n",
    "5. In the notebook, please write a piece of code that can use the [Boto 3 API](https://boto3.readthedocs.org/en/latest/guide/migrations3.html) to do the followings:\n",
    "  - Retrieve \"playbyplay20120510040.zip\" from __S3__ to your local machine\n",
    "  - Extract the lines that contain the word of \"bryant\" (ignore case). You can use the [zipfile](https://docs.python.org/2/library/zipfile.html) library to read the zip file directly.\n",
    "  - Write the extracted lines to a local file named \"bryant.txt\"\n",
    "  - Upload \"bryant.txt\" to the bucket that you created \n",
    "\n",
    "\n",
    "__Hints:__\n",
    "\n",
    "* Please first install boto3 into your EC2 instance by running the following command:\n",
    "> conda install boto3\n",
    "\n",
    "* You should never put *AWS_ACCESS_KEY_ID* and *AWS_SECRET_ACCESS_KEY* into your code. To avoid this, you can set them as system environment variables \n",
    "\n",
    "* Please take a look at the Boto 3 Transfer Manager [API](http://boto3.readthedocs.org/en/latest/guide/s3.html#using-the-transfer-manager)\n",
    "\n",
    "__Submission:__\n",
    "\n",
    "* Please submit a URL that links to the notebook your created\n"
   ]
  },
  {
   "cell_type": "markdown",
   "metadata": {},
   "source": [
    "### Where To Go From Here (Optional)"
   ]
  },
  {
   "cell_type": "markdown",
   "metadata": {},
   "source": [
    "There are a few things that you can do to improve the iPython Notebook setup:\n",
    "\n",
    "1. Apply for [AWS Education Credits](https://aws.amazon.com/education/awseducate/) that allow you to launch a larger instance or a cluster of multiple instances for free\n",
    "2. You can launch EC2 spot instances (as worker nodes) to save cost\n",
    "3. Enable your iPython Notebook to support pyspark"
   ]
  },
  {
   "cell_type": "markdown",
   "metadata": {},
   "source": [
    "## Part 2: Dynamic Visualization with D3"
   ]
  },
  {
   "cell_type": "markdown",
   "metadata": {},
   "source": [
    "Data visualization (a.k.a dataviz) is an important skill for data scientists. It can not only help the data scientists to tell a more vivid [story](https://www.youtube.com/watch?feature=player_embedded&v=jbkSRLYSojo) about their findings, but also reveal [interesting patterns](http://www.qualia.hr/the-power-of-data-visualization-anscombes-story/) that cannot be found through typical summary statistics. \n",
    "\n",
    "There are a large number of [dataviz tools](http://www.computerworld.com/article/2506820/business-intelligence/business-intelligence-chart-and-image-gallery-30-free-tools-for-data-visualization-and-analysis.html?nsdr=true) available. In this assignment, we are going to learn Data-driven Documents (D3), one of the most popular ones. D3 is a JavaScript library for manipulating documents based on data. People may choose to use D3 for various reasons. What I like most about D3 is that it makes the creation of __dynamic__ data visualizations on the Web become much easier. In Part 2, you will learn three methods: __\"transition\", \"selection.exit\", and \"selection.on\"__ for turning a static visualization into a dynamic one. "
   ]
  },
  {
   "cell_type": "markdown",
   "metadata": {},
   "source": [
    "### Prerequisite: D3 Basics"
   ]
  },
  {
   "cell_type": "markdown",
   "metadata": {},
   "source": [
    "The key idea behind D3 is to manipulate DOM elements in a webpage based on input data. Thus, before you create visualizations using D3, the first question is to ask what your data is; the second one is to ask what DOM elements you want to bind your data to; the third one is to ask how to update the elements to reflect the changes of data. \n",
    "\n",
    "Here is a pretty cool tutorial. Please take a look at the first 1 hour. \n"
   ]
  },
  {
   "cell_type": "code",
   "execution_count": 2,
   "metadata": {
    "collapsed": false,
    "scrolled": true
   },
   "outputs": [
    {
     "data": {
      "text/html": [
       "\n",
       "        <iframe\n",
       "            width=\"400\"\n",
       "            height=\"300\"\n",
       "            src=\"https://www.youtube.com/embed/8jvoTV54nXw\"\n",
       "            frameborder=\"0\"\n",
       "            allowfullscreen\n",
       "        ></iframe>\n",
       "        "
      ],
      "text/plain": [
       "<IPython.lib.display.YouTubeVideo at 0x1086e9a10>"
      ]
     },
     "execution_count": 2,
     "metadata": {},
     "output_type": "execute_result"
    }
   ],
   "source": [
    "from IPython.display import YouTubeVideo\n",
    "YouTubeVideo(\"8jvoTV54nXw\")"
   ]
  },
  {
   "cell_type": "markdown",
   "metadata": {},
   "source": [
    "I created a static visualization ([base.html](files/base.html)) using D3. Please download it and read the source code. There shouldn't be a problem to understand the code if you have watched the video. \n",
    "\n",
    "\n",
    "\"base.html\" will be your starting point. The goal of the following tasks is to make \"base.html\" become dynamic using three different methods. While these tasks look a little useless from a data analysis point of view, you can easily extend them to more realistic charts (e.g., replacing each character with a bar)."
   ]
  },
  {
   "cell_type": "markdown",
   "metadata": {},
   "source": [
    "### Task B. Dynamic Visualization using \"transition\""
   ]
  },
  {
   "cell_type": "markdown",
   "metadata": {},
   "source": [
    "In Task B, you need to modify the \"base.html\" file to make the visualization behave as follows.\n",
    "\n",
    "<img src=\"img/b.gif\"/>\n",
    "\n",
    "At the beginning, the text is on the left side and it is in black color. After waiting for 1 sec, it moves from left to right by 100px, where the duration time is 1 sec. Once it arrives at the right side, the color of each character is changed from black to its original color. Please note that the above gif figure will repeat the move, but you only need to move it ONCE.      \n",
    "\n",
    "__Hints:__\n",
    "* Please take a look at [Transitions](https://www.youtube.com/watch?v=EpeOzq8eDYk&list=PL6il2r9i3BqH9PmbOf5wA5E1wOG3FT22p&index=8)\n",
    "\n",
    "__Submission:__\n",
    "* Name your file as B.html, and submit it to the CourSys activity Assignment 8"
   ]
  },
  {
   "cell_type": "markdown",
   "metadata": {},
   "source": [
    "### Task C. Dynamic Visualization using \"selection.exit\""
   ]
  },
  {
   "cell_type": "markdown",
   "metadata": {},
   "source": [
    "In Task C, you need to modify the \"base.html\" file to make the visualization behave as follows.\n",
    "\n",
    "<img src=\"img/c-new.gif\"/>\n",
    "\n",
    "At the beginning, there is no text. Every 0.5 sec, there is a new character (including space) showing up from left to right. Once all the characters show up, each character will disappear one by one from right to left (every 0.5sec). Please note that the above gif figure will repeat this process, but you only need to do it ONCE. That is, once all the characters disappear, there is no more change to the visualization. \n",
    "\n",
    "__Hints:__\n",
    "* Please take a look at [Examples 65-67](https://youtu.be/8jvoTV54nXw?t=55m52s) in the above tutorial.\n",
    "\n",
    "__Submission:__\n",
    "* Name your file as C.html, and submit it to the CourSys activity Assignment 8"
   ]
  },
  {
   "cell_type": "markdown",
   "metadata": {},
   "source": [
    "### Task D. Dynamic Visualization using \"selection.on\""
   ]
  },
  {
   "cell_type": "markdown",
   "metadata": {},
   "source": [
    "In Task D, you need to modify the \"base.html\" file to make the visualization behave as follows.\n",
    "\n",
    "<img src=\"img/d.gif\"/>\n",
    "\n",
    "At the beginning, all characters are in black color. Once you move the mouse over each character, the color of the character changes from black to its original color. Once you move the mouse out the character, the color changes to black after waiting for 1 sec.\n",
    "\n",
    "__Hints:__\n",
    "* You might need to use [selection.on](https://github.com/mbostock/d3/wiki/Selections#animation--interaction) to finish this task.\n",
    "\n",
    "__Submission:__\n",
    "* Name your file as D.html, and submit it to the CourSys activity Assignment 8"
   ]
  },
  {
   "cell_type": "markdown",
   "metadata": {},
   "source": [
    "### Where To Go From Here (Optional)"
   ]
  },
  {
   "cell_type": "markdown",
   "metadata": {},
   "source": [
    "Here are some good resources to continue your study on D3:\n",
    "\n",
    "* Learning by books: [D3 Tutorial](http://alignedleft.com/tutorials/d3/), [Interactive Data Visualization for the Web](http://chimera.labs.oreilly.com/books/1230000000345/index.html)\n",
    "* Learning by examples: [D3 Gallery](https://github.com/mbostock/d3/wiki/Gallery)\n",
    "* D3 is a low-level visualization tool (think of it as MapReduce). There are many high-level tools built upon D3 (think of them as Spark, HIVE, etc.). Here are some good ones: [Vega](http://vega.github.io), [d3.chart](http://misoproject.com/d3-chart/), and [mpld3](http://mpld3.github.io/)."
   ]
  },
  {
   "cell_type": "markdown",
   "metadata": {},
   "source": [
    "## Submission"
   ]
  },
  {
   "cell_type": "markdown",
   "metadata": {
    "collapsed": true
   },
   "source": [
    "In summary, you need to complete one task on AWS and three tasks on D3. Please submit <font color=\"blue\">the notebook URL</font>, <font color=\"blue\">B.html</font>, <font color=\"blue\">C.html</font>, and <font color=\"blue\">D.html</font> to the CourSys activity [Assignment 8](https://courses.cs.sfu.ca/2016sp-cmpt-733-g0/+a8/)."
   ]
  }
 ],
 "metadata": {
  "kernelspec": {
   "display_name": "Python 2",
   "language": "python",
   "name": "python2"
  },
  "language_info": {
   "codemirror_mode": {
    "name": "ipython",
    "version": 2
   },
   "file_extension": ".py",
   "mimetype": "text/x-python",
   "name": "python",
   "nbconvert_exporter": "python",
   "pygments_lexer": "ipython2",
   "version": "2.7.11"
  }
 },
 "nbformat": 4,
 "nbformat_minor": 0
}
